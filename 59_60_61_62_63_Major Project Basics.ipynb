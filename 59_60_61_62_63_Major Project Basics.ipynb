{
 "cells": [
  {
   "cell_type": "markdown",
   "metadata": {},
   "source": [
    "# Yolo Object Detection from scratch\n",
    "\n",
    "#### Deep Learning Algorithms\n",
    "\n",
    "#### Computer Vision"
   ]
  },
  {
   "cell_type": "markdown",
   "metadata": {},
   "source": [
    "Residual Blocks\n",
    "\n",
    "Skip connections\n",
    "\n",
    "Upsampling\n",
    "\n",
    "Object detection\n",
    "\n",
    "Bounding box Regression\n",
    "\n",
    "IoU - Intersection Over Union\n",
    "\n",
    "Non-maximum suppression\n"
   ]
  },
  {
   "cell_type": "code",
   "execution_count": null,
   "metadata": {},
   "outputs": [],
   "source": [
    "Basic PyTorch usage"
   ]
  },
  {
   "cell_type": "code",
   "execution_count": null,
   "metadata": {},
   "outputs": [],
   "source": [
    "day 60 \n",
    "\n",
    "working on yolo folder\n"
   ]
  },
  {
   "cell_type": "code",
   "execution_count": null,
   "metadata": {},
   "outputs": [],
   "source": [
    "day 61\n",
    "\n",
    "extracting information from config file\n"
   ]
  },
  {
   "cell_type": "code",
   "execution_count": null,
   "metadata": {},
   "outputs": [],
   "source": [
    "day 62\n",
    "\n",
    "creating all layers and add them in modules list\n",
    "\n",
    "test the code"
   ]
  },
  {
   "cell_type": "code",
   "execution_count": null,
   "metadata": {},
   "outputs": [],
   "source": [
    "day 63\n",
    "\n",
    "implement the network architecture of yolo\n",
    "\n",
    "defining a network\n",
    "\n",
    "forward pass\n",
    "1. calulate the output\n",
    "2. transform the output detection feature maps\n",
    "\n"
   ]
  }
 ],
 "metadata": {
  "kernelspec": {
   "display_name": "Python 3",
   "language": "python",
   "name": "python3"
  },
  "language_info": {
   "codemirror_mode": {
    "name": "ipython",
    "version": 3
   },
   "file_extension": ".py",
   "mimetype": "text/x-python",
   "name": "python",
   "nbconvert_exporter": "python",
   "pygments_lexer": "ipython3",
   "version": "3.7.4"
  }
 },
 "nbformat": 4,
 "nbformat_minor": 4
}
